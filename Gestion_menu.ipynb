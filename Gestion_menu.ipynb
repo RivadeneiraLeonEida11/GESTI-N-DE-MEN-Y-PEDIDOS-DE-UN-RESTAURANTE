{
  "nbformat": 4,
  "nbformat_minor": 0,
  "metadata": {
    "colab": {
      "provenance": [],
      "authorship_tag": "ABX9TyO7YWFtFRm3IY+eMLNCAPvp",
      "include_colab_link": true
    },
    "kernelspec": {
      "name": "python3",
      "display_name": "Python 3"
    },
    "language_info": {
      "name": "python"
    }
  },
  "cells": [
    {
      "cell_type": "markdown",
      "metadata": {
        "id": "view-in-github",
        "colab_type": "text"
      },
      "source": [
        "<a href=\"https://colab.research.google.com/github/RivadeneiraLeonEida11/GESTI-N-DE-MEN-Y-PEDIDOS-DE-UN-RESTAURANTE/blob/main/Gestion_menu.ipynb\" target=\"_parent\"><img src=\"https://colab.research.google.com/assets/colab-badge.svg\" alt=\"Open In Colab\"/></a>"
      ]
    },
    {
      "cell_type": "markdown",
      "source": [
        "***Parte 1:***\n",
        "\n",
        "---\n",
        "\n"
      ],
      "metadata": {
        "id": "3q72XRrUzTTq"
      }
    },
    {
      "cell_type": "markdown",
      "source": [
        "Creacion del diccionario con Tupla:"
      ],
      "metadata": {
        "id": "g13bPngozdpi"
      }
    },
    {
      "cell_type": "code",
      "execution_count": 41,
      "metadata": {
        "id": "aCknr1wpwQFM"
      },
      "outputs": [],
      "source": [
        "menu_restaurante = {\n",
        "    'pizza margarita': {\n",
        "        'precio': 12.50,\n",
        "        'ingredientes': ('tomate', 'mozzarella', 'albahaca')\n",
        "    },\n",
        "    'ensalada cesar': {\n",
        "        'precio': 9.75,\n",
        "        'ingredientes': ('lechuga romana', 'pollo a la parrilla', 'picatostes', 'queso parmesano', 'aderezo cesar')\n",
        "    },\n",
        "    'pasta carbonara': {\n",
        "        'precio': 14.00,\n",
        "        'ingredientes': ('spaghetti', 'huevo', 'panceta', 'queso pecorino', 'pimienta negra')\n",
        "    },\n",
        "    'encebollado': {\n",
        "        'precio': 2.50,\n",
        "        'ingredientes': ('tomate', 'cebolla', 'pescado', 'yuca', 'aji peruano')\n",
        "    },\n",
        "    'salchipollo': {\n",
        "        'precio': 3.50,\n",
        "        'ingredientes': ('papa', 'salchicha', 'pollo', 'cebolla', 'salsa de tomate', 'mayonesa')\n",
        "    },\n",
        "    'caldo de gallina': {\n",
        "        'precio': 6.00,\n",
        "        'ingredientes': ('agua', 'gallina', 'cebolla blanca', 'yuca', 'sal', '')\n",
        "    },\n",
        "    'hornado': {\n",
        "        'precio': 7.25,\n",
        "        'ingredientes': ('chancho', 'mote', 'yuca', 'aguacate', 'cebolla', 'manteca de cerdo')\n",
        "    }\n",
        "}"
      ]
    },
    {
      "cell_type": "markdown",
      "source": [
        "*Funcion que imprime el menu:*"
      ],
      "metadata": {
        "id": "T_BjoaLxzjdq"
      }
    },
    {
      "cell_type": "code",
      "source": [
        "def mostrar_menu(menu):\n",
        "    print(\"MENÚ DEL RESTAURANTE\")\n",
        "    print(\"---------------------------\")\n",
        "    for plato, detalles in menu.items():\n",
        "        print(f\"\\nPlato: {plato}\")\n",
        "        print(f\"  Precio: ${detalles['precio']:.2f}\")\n",
        "        print(f\"  Ingredientes: {', '.join(detalles['ingredientes']).capitalize()}\")\n",
        "    print(\"\\n---------------------------\")"
      ],
      "metadata": {
        "id": "grWD76tMydG6"
      },
      "execution_count": 42,
      "outputs": []
    },
    {
      "cell_type": "markdown",
      "source": [
        "Se inicia la funcion con el diccionario:"
      ],
      "metadata": {
        "id": "ytQTE2O_zvwC"
      }
    },
    {
      "cell_type": "code",
      "source": [
        "# Luego, llamamos a la función con el menú:\n",
        "mostrar_menu(menu_restaurante)"
      ],
      "metadata": {
        "colab": {
          "base_uri": "https://localhost:8080/"
        },
        "id": "MWgadAy_yfiR",
        "outputId": "4b5d79d5-7cd6-4d4c-bf78-0d91d61bef57"
      },
      "execution_count": 43,
      "outputs": [
        {
          "output_type": "stream",
          "name": "stdout",
          "text": [
            "MENÚ DEL RESTAURANTE\n",
            "---------------------------\n",
            "\n",
            "Plato: pizza margarita\n",
            "  Precio: $12.50\n",
            "  Ingredientes: Tomate, mozzarella, albahaca\n",
            "\n",
            "Plato: ensalada cesar\n",
            "  Precio: $9.75\n",
            "  Ingredientes: Lechuga romana, pollo a la parrilla, picatostes, queso parmesano, aderezo cesar\n",
            "\n",
            "Plato: pasta carbonara\n",
            "  Precio: $14.00\n",
            "  Ingredientes: Spaghetti, huevo, panceta, queso pecorino, pimienta negra\n",
            "\n",
            "Plato: encebollado\n",
            "  Precio: $2.50\n",
            "  Ingredientes: Tomate, cebolla, pescado, yuca, aji peruano\n",
            "\n",
            "Plato: salchipollo\n",
            "  Precio: $3.50\n",
            "  Ingredientes: Papa, salchicha, pollo, cebolla, salsa de tomate, mayonesa\n",
            "\n",
            "Plato: caldo de gallina\n",
            "  Precio: $6.00\n",
            "  Ingredientes: Agua, gallina, cebolla blanca, yuca, sal, \n",
            "\n",
            "Plato: hornado\n",
            "  Precio: $7.25\n",
            "  Ingredientes: Chancho, mote, yuca, aguacate, cebolla, manteca de cerdo\n",
            "\n",
            "---------------------------\n"
          ]
        }
      ]
    },
    {
      "cell_type": "markdown",
      "source": [
        "***2da Parte***\n",
        "\n",
        "---\n",
        "\n"
      ],
      "metadata": {
        "id": "WqjM3Rbu2RqU"
      }
    },
    {
      "cell_type": "markdown",
      "source": [
        "Pedidos:\n",
        "\n",
        "---\n",
        "\n",
        "\n",
        "Muestra del menu:"
      ],
      "metadata": {
        "id": "OJ0YvPFQ2VCy"
      }
    },
    {
      "cell_type": "code",
      "source": [
        "pedido_actual = []\n",
        "total_cuenta = 0.0\n",
        "print(\"\\n--- ¡Bienvenido al sistema de pedidos! ---\")\n",
        "print(\"Puedes ver nuestro menú o empezar a pedir.\")\n",
        "print(\"Escribe 'fin' en cualquier momento para terminar tu pedido.\\n\")\n"
      ],
      "metadata": {
        "colab": {
          "base_uri": "https://localhost:8080/"
        },
        "id": "jmSkRpek0BkV",
        "outputId": "e0fffca0-5e80-4775-d5fd-6460ef91602e"
      },
      "execution_count": 44,
      "outputs": [
        {
          "output_type": "stream",
          "name": "stdout",
          "text": [
            "\n",
            "--- ¡Bienvenido al sistema de pedidos! ---\n",
            "Puedes ver nuestro menú o empezar a pedir.\n",
            "Escribe 'fin' en cualquier momento para terminar tu pedido.\n",
            "\n"
          ]
        }
      ]
    },
    {
      "cell_type": "markdown",
      "source": [
        "Bucle while  que permite que el cliente agregue platos a su pedido de manera continua"
      ],
      "metadata": {
        "id": "DkTwMplj2_gz"
      }
    },
    {
      "cell_type": "code",
      "source": [
        "while True:\n",
        "    print(\"\\nPlatos disponibles:\")\n",
        "    # se muestran los paltos disponibles\n",
        "    for i, plato in enumerate(menu_restaurante.keys(), 1):\n",
        "        print(f\"{i}. {plato.capitalize()}\")\n",
        "\n",
        "    plato_deseado = input(\"Introduzca el plato deseado (o 'fin' para terminar): \").lower()\n",
        "\n",
        "    if plato_deseado == 'fin':\n",
        "        break  # se sale del bucle con ingresar la clave 'fin'\n",
        "    elif plato_deseado in menu_restaurante:\n",
        "        pedido_actual.append(plato_deseado)\n",
        "        total_cuenta += menu_restaurante[plato_deseado]['precio']\n",
        "        print(f\"¡'{plato_deseado.capitalize()}' añadido al pedido!\")\n",
        "    else:\n",
        "        # se muestra este mensaje si el plato ingresado por el usuario no existe\n",
        "        print(\"Lo sentimos, ese plato no está en el menú. Por favor, intente de nuevo.\")"
      ],
      "metadata": {
        "colab": {
          "base_uri": "https://localhost:8080/"
        },
        "id": "6nSHw5xQ2ftD",
        "outputId": "74156f15-fc0f-4324-8c8d-db871fc8ebd7"
      },
      "execution_count": 45,
      "outputs": [
        {
          "name": "stdout",
          "output_type": "stream",
          "text": [
            "\n",
            "Platos disponibles:\n",
            "1. Pizza margarita\n",
            "2. Ensalada cesar\n",
            "3. Pasta carbonara\n",
            "4. Encebollado\n",
            "5. Salchipollo\n",
            "6. Caldo de gallina\n",
            "7. Hornado\n",
            "Introduzca el plato deseado (o 'fin' para terminar): encebollado\n",
            "¡'Encebollado' añadido al pedido!\n",
            "\n",
            "Platos disponibles:\n",
            "1. Pizza margarita\n",
            "2. Ensalada cesar\n",
            "3. Pasta carbonara\n",
            "4. Encebollado\n",
            "5. Salchipollo\n",
            "6. Caldo de gallina\n",
            "7. Hornado\n",
            "Introduzca el plato deseado (o 'fin' para terminar): salchipollo\n",
            "¡'Salchipollo' añadido al pedido!\n",
            "\n",
            "Platos disponibles:\n",
            "1. Pizza margarita\n",
            "2. Ensalada cesar\n",
            "3. Pasta carbonara\n",
            "4. Encebollado\n",
            "5. Salchipollo\n",
            "6. Caldo de gallina\n",
            "7. Hornado\n",
            "Introduzca el plato deseado (o 'fin' para terminar): fin\n"
          ]
        }
      ]
    },
    {
      "cell_type": "markdown",
      "source": [
        "Resumen del Pedido:"
      ],
      "metadata": {
        "id": "7ZKJSetw6aSL"
      }
    },
    {
      "cell_type": "code",
      "source": [
        "# se muestra un resumen del pedido\n",
        "print(\"\\n RESUMEN DE TU PEDIDO \")\n",
        "if not pedido_actual:\n",
        "    print(\"No has añadido ningún plato a tu pedido.\")\n",
        "else:\n",
        "    print(\"Platos pedidos:\")\n",
        "    for plato in pedido_actual:\n",
        "        precio_plato = menu_restaurante[plato]['precio']\n",
        "        print(f\"* {plato.capitalize()} (${precio_plato:.2f})\")\n",
        "    print(f\"\\nTotal a pagar: ${total_cuenta:.2f}\")\n",
        "\n",
        "print(\" ¡Gracias por tu pedido! \")\n"
      ],
      "metadata": {
        "colab": {
          "base_uri": "https://localhost:8080/"
        },
        "id": "yxRUKg6c2v_k",
        "outputId": "044adb68-e712-466f-90d6-389e0b4b6189"
      },
      "execution_count": 46,
      "outputs": [
        {
          "output_type": "stream",
          "name": "stdout",
          "text": [
            "\n",
            " RESUMEN DE TU PEDIDO \n",
            "Platos pedidos:\n",
            "* Encebollado ($2.50)\n",
            "* Salchipollo ($3.50)\n",
            "\n",
            "Total a pagar: $6.00\n",
            " ¡Gracias por tu pedido! \n"
          ]
        }
      ]
    },
    {
      "cell_type": "markdown",
      "source": [
        "***3ra Parte***\n",
        "\n",
        "---\n",
        "\n"
      ],
      "metadata": {
        "id": "aBY4lVkk6SXb"
      }
    },
    {
      "cell_type": "markdown",
      "source": [
        "Matipulacion de la Lista:"
      ],
      "metadata": {
        "id": "nHmxeQhk6U5T"
      }
    },
    {
      "cell_type": "markdown",
      "source": [
        "*Antes de la Modificacion*\n",
        "\n",
        "---\n",
        "\n"
      ],
      "metadata": {
        "id": "IWTzReeR6oWD"
      }
    },
    {
      "cell_type": "code",
      "source": [
        "print(\"\\n Demostración de Manipulación del Menú \")\n",
        "print(\"\\n--- Menú antes de la modificación ---\")\n",
        "mostrar_menu(menu_restaurante)"
      ],
      "metadata": {
        "colab": {
          "base_uri": "https://localhost:8080/"
        },
        "id": "HQ1n-gJL5Vb0",
        "outputId": "e8a5ae2a-1487-43bc-8459-162406f1ed37"
      },
      "execution_count": 47,
      "outputs": [
        {
          "output_type": "stream",
          "name": "stdout",
          "text": [
            "\n",
            " Demostración de Manipulación del Menú \n",
            "\n",
            "--- Menú antes de la modificación ---\n",
            "MENÚ DEL RESTAURANTE\n",
            "---------------------------\n",
            "\n",
            "Plato: pizza margarita\n",
            "  Precio: $12.50\n",
            "  Ingredientes: Tomate, mozzarella, albahaca\n",
            "\n",
            "Plato: ensalada cesar\n",
            "  Precio: $9.75\n",
            "  Ingredientes: Lechuga romana, pollo a la parrilla, picatostes, queso parmesano, aderezo cesar\n",
            "\n",
            "Plato: pasta carbonara\n",
            "  Precio: $14.00\n",
            "  Ingredientes: Spaghetti, huevo, panceta, queso pecorino, pimienta negra\n",
            "\n",
            "Plato: encebollado\n",
            "  Precio: $2.50\n",
            "  Ingredientes: Tomate, cebolla, pescado, yuca, aji peruano\n",
            "\n",
            "Plato: salchipollo\n",
            "  Precio: $3.50\n",
            "  Ingredientes: Papa, salchicha, pollo, cebolla, salsa de tomate, mayonesa\n",
            "\n",
            "Plato: caldo de gallina\n",
            "  Precio: $6.00\n",
            "  Ingredientes: Agua, gallina, cebolla blanca, yuca, sal, \n",
            "\n",
            "Plato: hornado\n",
            "  Precio: $7.25\n",
            "  Ingredientes: Chancho, mote, yuca, aguacate, cebolla, manteca de cerdo\n",
            "\n",
            "---------------------------\n"
          ]
        }
      ]
    },
    {
      "cell_type": "markdown",
      "source": [
        "Despues de la Modificacion"
      ],
      "metadata": {
        "id": "OCwL97hp6tET"
      }
    },
    {
      "cell_type": "code",
      "source": [
        "\n",
        "plato_a_modificar = 'hornado'\n",
        "if plato_a_modificar in menu_restaurante:\n",
        "    precio_original = menu_restaurante[plato_a_modificar]['precio']\n",
        "    descuento_porcentaje = 0.10 # 10%\n",
        "    nuevo_precio = precio_original * (1 - descuento_porcentaje)\n",
        "    menu_restaurante[plato_a_modificar]['precio'] = nuevo_precio\n",
        "    print(f\"\\n¡Precio de '{plato_a_modificar.capitalize()}' actualizado!\")\n",
        "    print(f\"Precio original: ${precio_original:.2f}, Nuevo precio (con 10% de descuento): ${nuevo_precio:.2f}\")\n",
        "else:\n",
        "    print(f\"Error: El plato '{plato_a_modificar}' no se encontró en el menú para modificar su precio.\")\n",
        "\n",
        "print(\"\\n--- Menú después de la modificación de precio ---\")\n",
        "mostrar_menu(menu_restaurante)"
      ],
      "metadata": {
        "colab": {
          "base_uri": "https://localhost:8080/"
        },
        "id": "6ByfA6Ek7H_E",
        "outputId": "e63ed362-1743-45c1-eff8-369b602fc111"
      },
      "execution_count": 48,
      "outputs": [
        {
          "output_type": "stream",
          "name": "stdout",
          "text": [
            "\n",
            "¡Precio de 'Hornado' actualizado!\n",
            "Precio original: $7.25, Nuevo precio (con 10% de descuento): $6.53\n",
            "\n",
            "--- Menú después de la modificación de precio ---\n",
            "MENÚ DEL RESTAURANTE\n",
            "---------------------------\n",
            "\n",
            "Plato: pizza margarita\n",
            "  Precio: $12.50\n",
            "  Ingredientes: Tomate, mozzarella, albahaca\n",
            "\n",
            "Plato: ensalada cesar\n",
            "  Precio: $9.75\n",
            "  Ingredientes: Lechuga romana, pollo a la parrilla, picatostes, queso parmesano, aderezo cesar\n",
            "\n",
            "Plato: pasta carbonara\n",
            "  Precio: $14.00\n",
            "  Ingredientes: Spaghetti, huevo, panceta, queso pecorino, pimienta negra\n",
            "\n",
            "Plato: encebollado\n",
            "  Precio: $2.50\n",
            "  Ingredientes: Tomate, cebolla, pescado, yuca, aji peruano\n",
            "\n",
            "Plato: salchipollo\n",
            "  Precio: $3.50\n",
            "  Ingredientes: Papa, salchicha, pollo, cebolla, salsa de tomate, mayonesa\n",
            "\n",
            "Plato: caldo de gallina\n",
            "  Precio: $6.00\n",
            "  Ingredientes: Agua, gallina, cebolla blanca, yuca, sal, \n",
            "\n",
            "Plato: hornado\n",
            "  Precio: $6.53\n",
            "  Ingredientes: Chancho, mote, yuca, aguacate, cebolla, manteca de cerdo\n",
            "\n",
            "---------------------------\n"
          ]
        }
      ]
    },
    {
      "cell_type": "markdown",
      "source": [
        "PLATO DEL DIA(SOLO POR HOY)"
      ],
      "metadata": {
        "id": "n5cFqDi27p1N"
      }
    },
    {
      "cell_type": "code",
      "source": [
        "print(\"\\n--- Añadiendo el 'Plato del Día' ---\")\n",
        "menu_restaurante['ceviche de camaron'] = {\n",
        "    'precio': 9.50,\n",
        "    'ingredientes': ('camarones', 'cebolla morada', 'tomate', 'cilantro', 'limón', 'aguacate')\n",
        "}\n",
        "print(\"\\n¡'Ceviche de Camarón' añadido como plato temporal!\")\n",
        "\n",
        "print(\"\\n--- Menú completo (con el plato temporal) ---\")\n",
        "mostrar_menu(menu_restaurante)"
      ],
      "metadata": {
        "colab": {
          "base_uri": "https://localhost:8080/"
        },
        "id": "JAMd14OA7H28",
        "outputId": "7e007ff5-ca5d-4b89-c3cd-145b530be758"
      },
      "execution_count": 49,
      "outputs": [
        {
          "output_type": "stream",
          "name": "stdout",
          "text": [
            "\n",
            "--- Añadiendo el 'Plato del Día' ---\n",
            "\n",
            "¡'Ceviche de Camarón' añadido como plato temporal!\n",
            "\n",
            "--- Menú completo (con el plato temporal) ---\n",
            "MENÚ DEL RESTAURANTE\n",
            "---------------------------\n",
            "\n",
            "Plato: pizza margarita\n",
            "  Precio: $12.50\n",
            "  Ingredientes: Tomate, mozzarella, albahaca\n",
            "\n",
            "Plato: ensalada cesar\n",
            "  Precio: $9.75\n",
            "  Ingredientes: Lechuga romana, pollo a la parrilla, picatostes, queso parmesano, aderezo cesar\n",
            "\n",
            "Plato: pasta carbonara\n",
            "  Precio: $14.00\n",
            "  Ingredientes: Spaghetti, huevo, panceta, queso pecorino, pimienta negra\n",
            "\n",
            "Plato: encebollado\n",
            "  Precio: $2.50\n",
            "  Ingredientes: Tomate, cebolla, pescado, yuca, aji peruano\n",
            "\n",
            "Plato: salchipollo\n",
            "  Precio: $3.50\n",
            "  Ingredientes: Papa, salchicha, pollo, cebolla, salsa de tomate, mayonesa\n",
            "\n",
            "Plato: caldo de gallina\n",
            "  Precio: $6.00\n",
            "  Ingredientes: Agua, gallina, cebolla blanca, yuca, sal, \n",
            "\n",
            "Plato: hornado\n",
            "  Precio: $6.53\n",
            "  Ingredientes: Chancho, mote, yuca, aguacate, cebolla, manteca de cerdo\n",
            "\n",
            "Plato: ceviche de camaron\n",
            "  Precio: $9.50\n",
            "  Ingredientes: Camarones, cebolla morada, tomate, cilantro, limón, aguacate\n",
            "\n",
            "---------------------------\n"
          ]
        }
      ]
    }
  ]
}